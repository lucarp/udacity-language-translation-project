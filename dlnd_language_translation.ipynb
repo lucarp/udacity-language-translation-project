{
 "cells": [
  {
   "cell_type": "markdown",
   "metadata": {
    "collapsed": true
   },
   "source": [
    "# Language Translation\n",
    "In this project, you’re going to take a peek into the realm of neural network machine translation.  You’ll be training a sequence to sequence model on a dataset of English and French sentences that can translate new sentences from English to French.\n",
    "## Get the Data\n",
    "Since translating the whole language of English to French will take lots of time to train, we have provided you with a small portion of the English corpus."
   ]
  },
  {
   "cell_type": "code",
   "execution_count": 5,
   "metadata": {
    "collapsed": true
   },
   "outputs": [],
   "source": [
    "\"\"\"\n",
    "DON'T MODIFY ANYTHING IN THIS CELL\n",
    "\"\"\"\n",
    "import helper\n",
    "import problem_unittests as tests\n",
    "\n",
    "source_path = 'data/small_vocab_en'\n",
    "target_path = 'data/small_vocab_fr'\n",
    "source_text = helper.load_data(source_path)\n",
    "target_text = helper.load_data(target_path)"
   ]
  },
  {
   "cell_type": "markdown",
   "metadata": {},
   "source": [
    "## Explore the Data\n",
    "Play around with view_sentence_range to view different parts of the data."
   ]
  },
  {
   "cell_type": "code",
   "execution_count": 6,
   "metadata": {},
   "outputs": [
    {
     "name": "stdout",
     "output_type": "stream",
     "text": [
      "Dataset Stats\n",
      "Roughly the number of unique words: 227\n",
      "Number of sentences: 137861\n",
      "Average number of words in a sentence: 13.225277634719028\n",
      "\n",
      "English sentences 0 to 10:\n",
      "new jersey is sometimes quiet during autumn , and it is snowy in april .\n",
      "the united states is usually chilly during july , and it is usually freezing in november .\n",
      "california is usually quiet during march , and it is usually hot in june .\n",
      "the united states is sometimes mild during june , and it is cold in september .\n",
      "your least liked fruit is the grape , but my least liked is the apple .\n",
      "his favorite fruit is the orange , but my favorite is the grape .\n",
      "paris is relaxing during december , but it is usually chilly in july .\n",
      "new jersey is busy during spring , and it is never hot in march .\n",
      "our least liked fruit is the lemon , but my least liked is the grape .\n",
      "the united states is sometimes busy during january , and it is sometimes warm in november .\n",
      "\n",
      "French sentences 0 to 10:\n",
      "new jersey est parfois calme pendant l' automne , et il est neigeux en avril .\n",
      "les états-unis est généralement froid en juillet , et il gèle habituellement en novembre .\n",
      "california est généralement calme en mars , et il est généralement chaud en juin .\n",
      "les états-unis est parfois légère en juin , et il fait froid en septembre .\n",
      "votre moins aimé fruit est le raisin , mais mon moins aimé est la pomme .\n",
      "son fruit préféré est l'orange , mais mon préféré est le raisin .\n",
      "paris est relaxant en décembre , mais il est généralement froid en juillet .\n",
      "new jersey est occupé au printemps , et il est jamais chaude en mars .\n",
      "notre fruit est moins aimé le citron , mais mon moins aimé est le raisin .\n",
      "les états-unis est parfois occupé en janvier , et il est parfois chaud en novembre .\n"
     ]
    }
   ],
   "source": [
    "view_sentence_range = (0, 10)\n",
    "\n",
    "\"\"\"\n",
    "DON'T MODIFY ANYTHING IN THIS CELL\n",
    "\"\"\"\n",
    "import numpy as np\n",
    "\n",
    "print('Dataset Stats')\n",
    "print('Roughly the number of unique words: {}'.format(len({word: None for word in source_text.split()})))\n",
    "\n",
    "sentences = source_text.split('\\n')\n",
    "word_counts = [len(sentence.split()) for sentence in sentences]\n",
    "print('Number of sentences: {}'.format(len(sentences)))\n",
    "print('Average number of words in a sentence: {}'.format(np.average(word_counts)))\n",
    "\n",
    "print()\n",
    "print('English sentences {} to {}:'.format(*view_sentence_range))\n",
    "print('\\n'.join(source_text.split('\\n')[view_sentence_range[0]:view_sentence_range[1]]))\n",
    "print()\n",
    "print('French sentences {} to {}:'.format(*view_sentence_range))\n",
    "print('\\n'.join(target_text.split('\\n')[view_sentence_range[0]:view_sentence_range[1]]))"
   ]
  },
  {
   "cell_type": "markdown",
   "metadata": {},
   "source": [
    "## Implement Preprocessing Function\n",
    "### Text to Word Ids\n",
    "As you did with other RNNs, you must turn the text into a number so the computer can understand it. In the function `text_to_ids()`, you'll turn `source_text` and `target_text` from words to ids.  However, you need to add the `<EOS>` word id at the end of `target_text`.  This will help the neural network predict when the sentence should end.\n",
    "\n",
    "You can get the `<EOS>` word id by doing:\n",
    "```python\n",
    "target_vocab_to_int['<EOS>']\n",
    "```\n",
    "You can get other word ids using `source_vocab_to_int` and `target_vocab_to_int`."
   ]
  },
  {
   "cell_type": "code",
   "execution_count": 7,
   "metadata": {},
   "outputs": [
    {
     "name": "stdout",
     "output_type": "stream",
     "text": [
      "Tests Passed\n"
     ]
    }
   ],
   "source": [
    "def text_to_ids(source_text, target_text, source_vocab_to_int, target_vocab_to_int):\n",
    "    \"\"\"\n",
    "    Convert source and target text to proper word ids\n",
    "    :param source_text: String that contains all the source text.\n",
    "    :param target_text: String that contains all the target text.\n",
    "    :param source_vocab_to_int: Dictionary to go from the source words to an id\n",
    "    :param target_vocab_to_int: Dictionary to go from the target words to an id\n",
    "    :return: A tuple of lists (source_id_text, target_id_text)\n",
    "    \"\"\"\n",
    "    \n",
    "    # TODO: Implement Function\n",
    "    source_id_text = [[source_vocab_to_int[word] for word in sentence.split()] for sentence in source_text.split(\"\\n\")]\n",
    "    target_id_text = [[target_vocab_to_int[word] for word in sentence.split()] for sentence in target_text.split(\"\\n\")]\n",
    "    for i in range(len(target_id_text)):\n",
    "        target_id_text[i].append(target_vocab_to_int['<EOS>'])\n",
    "    return source_id_text, target_id_text\n",
    "\n",
    "\"\"\"\n",
    "DON'T MODIFY ANYTHING IN THIS CELL THAT IS BELOW THIS LINE\n",
    "\"\"\"\n",
    "tests.test_text_to_ids(text_to_ids)"
   ]
  },
  {
   "cell_type": "markdown",
   "metadata": {},
   "source": [
    "### Preprocess all the data and save it\n",
    "Running the code cell below will preprocess all the data and save it to file."
   ]
  },
  {
   "cell_type": "code",
   "execution_count": 8,
   "metadata": {
    "collapsed": true
   },
   "outputs": [],
   "source": [
    "\"\"\"\n",
    "DON'T MODIFY ANYTHING IN THIS CELL\n",
    "\"\"\"\n",
    "helper.preprocess_and_save_data(source_path, target_path, text_to_ids)"
   ]
  },
  {
   "cell_type": "markdown",
   "metadata": {},
   "source": [
    "# Check Point\n",
    "This is your first checkpoint. If you ever decide to come back to this notebook or have to restart the notebook, you can start from here. The preprocessed data has been saved to disk."
   ]
  },
  {
   "cell_type": "code",
   "execution_count": 9,
   "metadata": {
    "collapsed": true
   },
   "outputs": [],
   "source": [
    "\"\"\"\n",
    "DON'T MODIFY ANYTHING IN THIS CELL\n",
    "\"\"\"\n",
    "import numpy as np\n",
    "import helper\n",
    "import problem_unittests as tests\n",
    "\n",
    "(source_int_text, target_int_text), (source_vocab_to_int, target_vocab_to_int), _ = helper.load_preprocess()"
   ]
  },
  {
   "cell_type": "markdown",
   "metadata": {},
   "source": [
    "### Check the Version of TensorFlow and Access to GPU\n",
    "This will check to make sure you have the correct version of TensorFlow and access to a GPU"
   ]
  },
  {
   "cell_type": "code",
   "execution_count": 10,
   "metadata": {},
   "outputs": [
    {
     "name": "stdout",
     "output_type": "stream",
     "text": [
      "TensorFlow Version: 1.1.0\n",
      "Default GPU Device: /gpu:0\n"
     ]
    }
   ],
   "source": [
    "\"\"\"\n",
    "DON'T MODIFY ANYTHING IN THIS CELL\n",
    "\"\"\"\n",
    "from distutils.version import LooseVersion\n",
    "import warnings\n",
    "import tensorflow as tf\n",
    "from tensorflow.python.layers.core import Dense\n",
    "\n",
    "# Check TensorFlow Version\n",
    "assert LooseVersion(tf.__version__) >= LooseVersion('1.1'), 'Please use TensorFlow version 1.1 or newer'\n",
    "print('TensorFlow Version: {}'.format(tf.__version__))\n",
    "\n",
    "# Check for a GPU\n",
    "if not tf.test.gpu_device_name():\n",
    "    warnings.warn('No GPU found. Please use a GPU to train your neural network.')\n",
    "else:\n",
    "    print('Default GPU Device: {}'.format(tf.test.gpu_device_name()))"
   ]
  },
  {
   "cell_type": "markdown",
   "metadata": {},
   "source": [
    "## Build the Neural Network\n",
    "You'll build the components necessary to build a Sequence-to-Sequence model by implementing the following functions below:\n",
    "- `model_inputs`\n",
    "- `process_decoder_input`\n",
    "- `encoding_layer`\n",
    "- `decoding_layer_train`\n",
    "- `decoding_layer_infer`\n",
    "- `decoding_layer`\n",
    "- `seq2seq_model`\n",
    "\n",
    "### Input\n",
    "Implement the `model_inputs()` function to create TF Placeholders for the Neural Network. It should create the following placeholders:\n",
    "\n",
    "- Input text placeholder named \"input\" using the TF Placeholder name parameter with rank 2.\n",
    "- Targets placeholder with rank 2.\n",
    "- Learning rate placeholder with rank 0.\n",
    "- Keep probability placeholder named \"keep_prob\" using the TF Placeholder name parameter with rank 0.\n",
    "- Target sequence length placeholder named \"target_sequence_length\" with rank 1\n",
    "- Max target sequence length tensor named \"max_target_len\" getting its value from applying tf.reduce_max on the target_sequence_length placeholder. Rank 0.\n",
    "- Source sequence length placeholder named \"source_sequence_length\" with rank 1\n",
    "\n",
    "Return the placeholders in the following the tuple (input, targets, learning rate, keep probability, target sequence length, max target sequence length, source sequence length)"
   ]
  },
  {
   "cell_type": "code",
   "execution_count": 11,
   "metadata": {},
   "outputs": [
    {
     "name": "stdout",
     "output_type": "stream",
     "text": [
      "Tests Passed\n"
     ]
    }
   ],
   "source": [
    "def model_inputs():\n",
    "    \"\"\"\n",
    "    Create TF Placeholders for input, targets, learning rate, and lengths of source and target sequences.\n",
    "    :return: Tuple (input, targets, learning rate, keep probability, target sequence length,\n",
    "    max target sequence length, source sequence length)\n",
    "    \"\"\"\n",
    "    # TODO: Implement Function\n",
    "    seq_input = tf.placeholder(tf.int32, shape=[None, None], name=\"input\")\n",
    "    targets = tf.placeholder(tf.int32, shape=[None, None])\n",
    "    learning_rate = tf.placeholder(tf.float32, shape=())\n",
    "    keep_probability = tf.placeholder(tf.float32, shape=(), name=\"keep_prob\")\n",
    "    target_sequence_length = tf.placeholder(tf.int32, shape=[None], name=\"target_sequence_length\")\n",
    "    max_target_len = tf.reduce_max(target_sequence_length)\n",
    "    source_sequence_length = tf.placeholder(tf.int32, shape=[None], name=\"source_sequence_length\")\n",
    "\n",
    "    return seq_input, targets, learning_rate, keep_probability, target_sequence_length, max_target_len, source_sequence_length\n",
    "\n",
    "\n",
    "\"\"\"\n",
    "DON'T MODIFY ANYTHING IN THIS CELL THAT IS BELOW THIS LINE\n",
    "\"\"\"\n",
    "tests.test_model_inputs(model_inputs)"
   ]
  },
  {
   "cell_type": "markdown",
   "metadata": {},
   "source": [
    "### Process Decoder Input\n",
    "Implement `process_decoder_input` by removing the last word id from each batch in `target_data` and concat the GO ID to the begining of each batch."
   ]
  },
  {
   "cell_type": "code",
   "execution_count": 12,
   "metadata": {},
   "outputs": [
    {
     "name": "stdout",
     "output_type": "stream",
     "text": [
      "Tests Passed\n"
     ]
    }
   ],
   "source": [
    "def process_decoder_input(target_data, target_vocab_to_int, batch_size):\n",
    "    \"\"\"\n",
    "    Preprocess target data for encoding\n",
    "    :param target_data: Target Placehoder\n",
    "    :param target_vocab_to_int: Dictionary to go from the target words to an id\n",
    "    :param batch_size: Batch Size\n",
    "    :return: Preprocessed target data\n",
    "    \"\"\"\n",
    "    # TODO: Implement Function\n",
    "    x = tf.strided_slice(target_data, [0,0], [batch_size, -1], [1,1])\n",
    "    y = tf.concat([tf.fill([batch_size, 1], target_vocab_to_int['<GO>']), x], 1)\n",
    "    return y\n",
    "\n",
    "\"\"\"\n",
    "DON'T MODIFY ANYTHING IN THIS CELL THAT IS BELOW THIS LINE\n",
    "\"\"\"\n",
    "tests.test_process_encoding_input(process_decoder_input)"
   ]
  },
  {
   "cell_type": "markdown",
   "metadata": {},
   "source": [
    "### Encoding\n",
    "Implement `encoding_layer()` to create a Encoder RNN layer:\n",
    " * Embed the encoder input using [`tf.contrib.layers.embed_sequence`](https://www.tensorflow.org/api_docs/python/tf/contrib/layers/embed_sequence)\n",
    " * Construct a [stacked](https://github.com/tensorflow/tensorflow/blob/6947f65a374ebf29e74bb71e36fd82760056d82c/tensorflow/docs_src/tutorials/recurrent.md#stacking-multiple-lstms) [`tf.contrib.rnn.LSTMCell`](https://www.tensorflow.org/api_docs/python/tf/contrib/rnn/LSTMCell) wrapped in a [`tf.contrib.rnn.DropoutWrapper`](https://www.tensorflow.org/api_docs/python/tf/contrib/rnn/DropoutWrapper)\n",
    " * Pass cell and embedded input to [`tf.nn.dynamic_rnn()`](https://www.tensorflow.org/api_docs/python/tf/nn/dynamic_rnn)"
   ]
  },
  {
   "cell_type": "code",
   "execution_count": 13,
   "metadata": {
    "scrolled": false
   },
   "outputs": [
    {
     "name": "stdout",
     "output_type": "stream",
     "text": [
      "Tests Passed\n"
     ]
    }
   ],
   "source": [
    "from imp import reload\n",
    "reload(tests)\n",
    "\n",
    "def encoding_layer(rnn_inputs, rnn_size, num_layers, keep_prob, \n",
    "                   source_sequence_length, source_vocab_size, \n",
    "                   encoding_embedding_size):\n",
    "    \"\"\"\n",
    "    Create encoding layer\n",
    "    :param rnn_inputs: Inputs for the RNN\n",
    "    :param rnn_size: RNN Size\n",
    "    :param num_layers: Number of layers\n",
    "    :param keep_prob: Dropout keep probability\n",
    "    :param source_sequence_length: a list of the lengths of each sequence in the batch\n",
    "    :param source_vocab_size: vocabulary size of source data\n",
    "    :param encoding_embedding_size: embedding size of source data\n",
    "    :return: tuple (RNN output, RNN state)\n",
    "    \"\"\"\n",
    "    # TODO: Implement Function\n",
    "    \n",
    "    enc_embed_input = tf.contrib.layers.embed_sequence(rnn_inputs, source_vocab_size, encoding_embedding_size)\n",
    "    \n",
    "    def lstm_cell(rnn_size):\n",
    "        cells = tf.contrib.rnn.LSTMCell(rnn_size, initializer=tf.random_uniform_initializer(-0.1, 0.1, seed=2))\n",
    "        return tf.contrib.rnn.DropoutWrapper(cells, output_keep_prob=keep_prob)\n",
    "\n",
    "    \n",
    "    stacked_lstm = tf.contrib.rnn.MultiRNNCell([lstm_cell(rnn_size) for _ in range(num_layers)])\n",
    "    \n",
    "    enc_output, enc_state = tf.nn.dynamic_rnn(stacked_lstm, enc_embed_input, sequence_length=source_sequence_length, dtype=tf.float32)\n",
    "    \n",
    "    return enc_output, enc_state\n",
    "\n",
    "\"\"\"\n",
    "DON'T MODIFY ANYTHING IN THIS CELL THAT IS BELOW THIS LINE\n",
    "\"\"\"\n",
    "tests.test_encoding_layer(encoding_layer)"
   ]
  },
  {
   "cell_type": "markdown",
   "metadata": {},
   "source": [
    "### Decoding - Training\n",
    "Create a training decoding layer:\n",
    "* Create a [`tf.contrib.seq2seq.TrainingHelper`](https://www.tensorflow.org/api_docs/python/tf/contrib/seq2seq/TrainingHelper) \n",
    "* Create a [`tf.contrib.seq2seq.BasicDecoder`](https://www.tensorflow.org/api_docs/python/tf/contrib/seq2seq/BasicDecoder)\n",
    "* Obtain the decoder outputs from [`tf.contrib.seq2seq.dynamic_decode`](https://www.tensorflow.org/api_docs/python/tf/contrib/seq2seq/dynamic_decode)"
   ]
  },
  {
   "cell_type": "code",
   "execution_count": 14,
   "metadata": {},
   "outputs": [
    {
     "name": "stdout",
     "output_type": "stream",
     "text": [
      "Tests Passed\n"
     ]
    }
   ],
   "source": [
    "\n",
    "def decoding_layer_train(encoder_state, dec_cell, dec_embed_input, \n",
    "                         target_sequence_length, max_summary_length, \n",
    "                         output_layer, keep_prob):\n",
    "    \"\"\"\n",
    "    Create a decoding layer for training\n",
    "    :param encoder_state: Encoder State\n",
    "    :param dec_cell: Decoder RNN Cell\n",
    "    :param dec_embed_input: Decoder embedded input\n",
    "    :param target_sequence_length: The lengths of each sequence in the target batch\n",
    "    :param max_summary_length: The length of the longest sequence in the batch\n",
    "    :param output_layer: Function to apply the output layer\n",
    "    :param keep_prob: Dropout keep probability\n",
    "    :return: BasicDecoderOutput containing training logits and sample_id\n",
    "    \"\"\"\n",
    "    # TODO: Implement Function\n",
    "    training_helper = tf.contrib.seq2seq.TrainingHelper(inputs=dec_embed_input,\n",
    "                                                        sequence_length=target_sequence_length,\n",
    "                                                        time_major=False)\n",
    "    \n",
    "    training_decoder = tf.contrib.seq2seq.BasicDecoder(dec_cell,\n",
    "                                                    training_helper,\n",
    "                                                    encoder_state,\n",
    "                                                    output_layer)\n",
    "    \n",
    "    training_decoder_output = tf.contrib.seq2seq.dynamic_decode(training_decoder,\n",
    "                                                                impute_finished=True,\n",
    "                                                                maximum_iterations=max_summary_length)[0]\n",
    "    \n",
    "    return training_decoder_output\n",
    "\n",
    "\n",
    "\n",
    "\n",
    "\n",
    "\"\"\"\n",
    "DON'T MODIFY ANYTHING IN THIS CELL THAT IS BELOW THIS LINE\n",
    "\"\"\"\n",
    "tests.test_decoding_layer_train(decoding_layer_train)"
   ]
  },
  {
   "cell_type": "markdown",
   "metadata": {},
   "source": [
    "### Decoding - Inference\n",
    "Create inference decoder:\n",
    "* Create a [`tf.contrib.seq2seq.GreedyEmbeddingHelper`](https://www.tensorflow.org/api_docs/python/tf/contrib/seq2seq/GreedyEmbeddingHelper)\n",
    "* Create a [`tf.contrib.seq2seq.BasicDecoder`](https://www.tensorflow.org/api_docs/python/tf/contrib/seq2seq/BasicDecoder)\n",
    "* Obtain the decoder outputs from [`tf.contrib.seq2seq.dynamic_decode`](https://www.tensorflow.org/api_docs/python/tf/contrib/seq2seq/dynamic_decode)"
   ]
  },
  {
   "cell_type": "code",
   "execution_count": 15,
   "metadata": {
    "scrolled": true
   },
   "outputs": [
    {
     "name": "stdout",
     "output_type": "stream",
     "text": [
      "Tests Passed\n"
     ]
    }
   ],
   "source": [
    "def decoding_layer_infer(encoder_state, dec_cell, dec_embeddings, start_of_sequence_id,\n",
    "                         end_of_sequence_id, max_target_sequence_length,\n",
    "                         vocab_size, output_layer, batch_size, keep_prob):\n",
    "    \"\"\"\n",
    "    Create a decoding layer for inference\n",
    "    :param encoder_state: Encoder state\n",
    "    :param dec_cell: Decoder RNN Cell\n",
    "    :param dec_embeddings: Decoder embeddings\n",
    "    :param start_of_sequence_id: GO ID\n",
    "    :param end_of_sequence_id: EOS Id\n",
    "    :param max_target_sequence_length: Maximum length of target sequences\n",
    "    :param vocab_size: Size of decoder/target vocabulary\n",
    "    :param decoding_scope: TenorFlow Variable Scope for decoding\n",
    "    :param output_layer: Function to apply the output layer\n",
    "    :param batch_size: Batch size\n",
    "    :param keep_prob: Dropout keep probability\n",
    "    :return: BasicDecoderOutput containing inference logits and sample_id\n",
    "    \"\"\"\n",
    "    # TODO: Implement Function\n",
    "    # Helper for the inference process.\n",
    "    start_tokens = tf.tile(tf.constant([start_of_sequence_id], dtype=tf.int32), [batch_size], name='start_tokens')\n",
    "    \n",
    "    inference_helper = tf.contrib.seq2seq.GreedyEmbeddingHelper(dec_embeddings,\n",
    "                                                                start_tokens,\n",
    "                                                                end_of_sequence_id)\n",
    "\n",
    "    # Basic decoder\n",
    "    inference_decoder = tf.contrib.seq2seq.BasicDecoder(dec_cell,\n",
    "                                                        inference_helper,\n",
    "                                                        encoder_state,\n",
    "                                                        output_layer)\n",
    "\n",
    "    # Perform dynamic decoding using the decoder\n",
    "    inference_decoder_output = tf.contrib.seq2seq.dynamic_decode(inference_decoder,\n",
    "                                                            impute_finished=True,\n",
    "                                                            maximum_iterations=max_target_sequence_length)[0]\n",
    "    return inference_decoder_output\n",
    "\n",
    "\n",
    "\n",
    "\"\"\"\n",
    "DON'T MODIFY ANYTHING IN THIS CELL THAT IS BELOW THIS LINE\n",
    "\"\"\"\n",
    "tests.test_decoding_layer_infer(decoding_layer_infer)"
   ]
  },
  {
   "cell_type": "markdown",
   "metadata": {},
   "source": [
    "### Build the Decoding Layer\n",
    "Implement `decoding_layer()` to create a Decoder RNN layer.\n",
    "\n",
    "* Embed the target sequences\n",
    "* Construct the decoder LSTM cell (just like you constructed the encoder cell above)\n",
    "* Create an output layer to map the outputs of the decoder to the elements of our vocabulary\n",
    "* Use the your `decoding_layer_train(encoder_state, dec_cell, dec_embed_input, target_sequence_length, max_target_sequence_length, output_layer, keep_prob)` function to get the training logits.\n",
    "* Use your `decoding_layer_infer(encoder_state, dec_cell, dec_embeddings, start_of_sequence_id, end_of_sequence_id, max_target_sequence_length, vocab_size, output_layer, batch_size, keep_prob)` function to get the inference logits.\n",
    "\n",
    "Note: You'll need to use [tf.variable_scope](https://www.tensorflow.org/api_docs/python/tf/variable_scope) to share variables between training and inference."
   ]
  },
  {
   "cell_type": "code",
   "execution_count": 16,
   "metadata": {},
   "outputs": [
    {
     "name": "stdout",
     "output_type": "stream",
     "text": [
      "Tests Passed\n"
     ]
    }
   ],
   "source": [
    "def decoding_layer(dec_input, encoder_state,\n",
    "                   target_sequence_length, max_target_sequence_length,\n",
    "                   rnn_size,\n",
    "                   num_layers, target_vocab_to_int, target_vocab_size,\n",
    "                   batch_size, keep_prob, decoding_embedding_size):\n",
    "    \"\"\"\n",
    "    Create decoding layer\n",
    "    :param dec_input: Decoder input\n",
    "    :param encoder_state: Encoder state\n",
    "    :param target_sequence_length: The lengths of each sequence in the target batch\n",
    "    :param max_target_sequence_length: Maximum length of target sequences\n",
    "    :param rnn_size: RNN Size\n",
    "    :param num_layers: Number of layers\n",
    "    :param target_vocab_to_int: Dictionary to go from the target words to an id\n",
    "    :param target_vocab_size: Size of target vocabulary\n",
    "    :param batch_size: The size of the batch\n",
    "    :param keep_prob: Dropout keep probability\n",
    "    :param decoding_embedding_size: Decoding embedding size\n",
    "    :return: Tuple of (Training BasicDecoderOutput, Inference BasicDecoderOutput)\n",
    "    \"\"\"\n",
    "    # TODO: Implement Function\n",
    "    dec_embeddings = tf.Variable(tf.random_uniform([target_vocab_size, decoding_embedding_size]))\n",
    "    dec_embed_input = tf.nn.embedding_lookup(dec_embeddings, dec_input)\n",
    "    \n",
    "   # decoder lstm cell\n",
    "    def make_cell(rnn_size):\n",
    "        return tf.contrib.rnn.LSTMCell(rnn_size, initializer=tf.random_uniform_initializer(-0.1, 0.1, seed=2))\n",
    "\n",
    "    dec_cell = tf.contrib.rnn.MultiRNNCell([make_cell(rnn_size) for _ in range(num_layers)])\n",
    "    \n",
    "    # output layer\n",
    "    output_layer = Dense(target_vocab_size,\n",
    "                         kernel_initializer = tf.truncated_normal_initializer(mean=0.0, stddev=0.1))\n",
    "    \n",
    "    # training logits\n",
    "    with tf.variable_scope(\"decode\"):\n",
    "        training_logits = decoding_layer_train(encoder_state, dec_cell, dec_embed_input,\n",
    "                                             target_sequence_length, max_target_sequence_length,\n",
    "                                             output_layer, keep_prob)\n",
    "    \n",
    "    # inference logits\n",
    "    with tf.variable_scope(\"decode\", reuse=True):\n",
    "        inference_logits = decoding_layer_infer(encoder_state, dec_cell, dec_embeddings, target_vocab_to_int['<GO>'],\n",
    "                                             target_vocab_to_int['<EOS>'], max_target_sequence_length,\n",
    "                                             target_vocab_size, output_layer, batch_size, keep_prob)\n",
    "    \n",
    "    return training_logits, inference_logits\n",
    "\n",
    "\n",
    "\"\"\"\n",
    "DON'T MODIFY ANYTHING IN THIS CELL THAT IS BELOW THIS LINE\n",
    "\"\"\"\n",
    "tests.test_decoding_layer(decoding_layer)"
   ]
  },
  {
   "cell_type": "markdown",
   "metadata": {},
   "source": [
    "### Build the Neural Network\n",
    "Apply the functions you implemented above to:\n",
    "\n",
    "- Encode the input using your `encoding_layer(rnn_inputs, rnn_size, num_layers, keep_prob,  source_sequence_length, source_vocab_size, encoding_embedding_size)`.\n",
    "- Process target data using your `process_decoder_input(target_data, target_vocab_to_int, batch_size)` function.\n",
    "- Decode the encoded input using your `decoding_layer(dec_input, enc_state, target_sequence_length, max_target_sentence_length, rnn_size, num_layers, target_vocab_to_int, target_vocab_size, batch_size, keep_prob, dec_embedding_size)` function."
   ]
  },
  {
   "cell_type": "code",
   "execution_count": 17,
   "metadata": {},
   "outputs": [
    {
     "name": "stdout",
     "output_type": "stream",
     "text": [
      "Tests Passed\n"
     ]
    }
   ],
   "source": [
    "def seq2seq_model(input_data, target_data, keep_prob, batch_size,\n",
    "                  source_sequence_length, target_sequence_length,\n",
    "                  max_target_sentence_length,\n",
    "                  source_vocab_size, target_vocab_size,\n",
    "                  enc_embedding_size, dec_embedding_size,\n",
    "                  rnn_size, num_layers, target_vocab_to_int):\n",
    "    \"\"\"\n",
    "    Build the Sequence-to-Sequence part of the neural network\n",
    "    :param input_data: Input placeholder\n",
    "    :param target_data: Target placeholder\n",
    "    :param keep_prob: Dropout keep probability placeholder\n",
    "    :param batch_size: Batch Size\n",
    "    :param source_sequence_length: Sequence Lengths of source sequences in the batch\n",
    "    :param target_sequence_length: Sequence Lengths of target sequences in the batch\n",
    "    :param source_vocab_size: Source vocabulary size\n",
    "    :param target_vocab_size: Target vocabulary size\n",
    "    :param enc_embedding_size: Decoder embedding size\n",
    "    :param dec_embedding_size: Encoder embedding size\n",
    "    :param rnn_size: RNN Size\n",
    "    :param num_layers: Number of layers\n",
    "    :param target_vocab_to_int: Dictionary to go from the target words to an id\n",
    "    :return: Tuple of (Training BasicDecoderOutput, Inference BasicDecoderOutput)\n",
    "    \"\"\"\n",
    "    # TODO: Implement Function\n",
    "    _, enc_layer_state = encoding_layer(input_data, rnn_size, num_layers, keep_prob,  source_sequence_length, source_vocab_size, enc_embedding_size)\n",
    "    \n",
    "    # process decoder input\n",
    "    dec_input = process_decoder_input(target_data, target_vocab_to_int, batch_size)\n",
    "\n",
    "    # decode the encoded input\n",
    "    training_logits, inference_logits = decoding_layer(dec_input, enc_layer_state,\n",
    "                   target_sequence_length, max_target_sentence_length,\n",
    "                   rnn_size,\n",
    "                   num_layers, target_vocab_to_int, target_vocab_size,\n",
    "                   batch_size, keep_prob, dec_embedding_size)\n",
    "        \n",
    "    return training_logits, inference_logits\n",
    "\n",
    "\n",
    "\"\"\"\n",
    "DON'T MODIFY ANYTHING IN THIS CELL THAT IS BELOW THIS LINE\n",
    "\"\"\"\n",
    "tests.test_seq2seq_model(seq2seq_model)"
   ]
  },
  {
   "cell_type": "markdown",
   "metadata": {},
   "source": [
    "## Neural Network Training\n",
    "### Hyperparameters\n",
    "Tune the following parameters:\n",
    "\n",
    "- Set `epochs` to the number of epochs.\n",
    "- Set `batch_size` to the batch size.\n",
    "- Set `rnn_size` to the size of the RNNs.\n",
    "- Set `num_layers` to the number of layers.\n",
    "- Set `encoding_embedding_size` to the size of the embedding for the encoder.\n",
    "- Set `decoding_embedding_size` to the size of the embedding for the decoder.\n",
    "- Set `learning_rate` to the learning rate.\n",
    "- Set `keep_probability` to the Dropout keep probability\n",
    "- Set `display_step` to state how many steps between each debug output statement"
   ]
  },
  {
   "cell_type": "code",
   "execution_count": 18,
   "metadata": {
    "collapsed": true
   },
   "outputs": [],
   "source": [
    "# Number of Epochs\n",
    "epochs = 10\n",
    "# Batch Size\n",
    "batch_size = 512\n",
    "# RNN Size\n",
    "rnn_size = 256\n",
    "# Number of Layers\n",
    "num_layers = 2\n",
    "# Embedding Size\n",
    "encoding_embedding_size = 128\n",
    "decoding_embedding_size = 128\n",
    "# Learning Rate\n",
    "learning_rate = 0.001\n",
    "# Dropout Keep Probability\n",
    "keep_probability = 0.7\n",
    "display_step = 10"
   ]
  },
  {
   "cell_type": "markdown",
   "metadata": {},
   "source": [
    "### Build the Graph\n",
    "Build the graph using the neural network you implemented."
   ]
  },
  {
   "cell_type": "code",
   "execution_count": 19,
   "metadata": {
    "collapsed": true
   },
   "outputs": [],
   "source": [
    "\"\"\"\n",
    "DON'T MODIFY ANYTHING IN THIS CELL\n",
    "\"\"\"\n",
    "save_path = 'checkpoints/dev'\n",
    "(source_int_text, target_int_text), (source_vocab_to_int, target_vocab_to_int), _ = helper.load_preprocess()\n",
    "max_target_sentence_length = max([len(sentence) for sentence in source_int_text])\n",
    "\n",
    "train_graph = tf.Graph()\n",
    "with train_graph.as_default():\n",
    "    input_data, targets, lr, keep_prob, target_sequence_length, max_target_sequence_length, source_sequence_length = model_inputs()\n",
    "\n",
    "    #sequence_length = tf.placeholder_with_default(max_target_sentence_length, None, name='sequence_length')\n",
    "    input_shape = tf.shape(input_data)\n",
    "\n",
    "    train_logits, inference_logits = seq2seq_model(tf.reverse(input_data, [-1]),\n",
    "                                                   targets,\n",
    "                                                   keep_prob,\n",
    "                                                   batch_size,\n",
    "                                                   source_sequence_length,\n",
    "                                                   target_sequence_length,\n",
    "                                                   max_target_sequence_length,\n",
    "                                                   len(source_vocab_to_int),\n",
    "                                                   len(target_vocab_to_int),\n",
    "                                                   encoding_embedding_size,\n",
    "                                                   decoding_embedding_size,\n",
    "                                                   rnn_size,\n",
    "                                                   num_layers,\n",
    "                                                   target_vocab_to_int)\n",
    "\n",
    "\n",
    "    training_logits = tf.identity(train_logits.rnn_output, name='logits')\n",
    "    inference_logits = tf.identity(inference_logits.sample_id, name='predictions')\n",
    "\n",
    "    masks = tf.sequence_mask(target_sequence_length, max_target_sequence_length, dtype=tf.float32, name='masks')\n",
    "\n",
    "    with tf.name_scope(\"optimization\"):\n",
    "        # Loss function\n",
    "        cost = tf.contrib.seq2seq.sequence_loss(\n",
    "            training_logits,\n",
    "            targets,\n",
    "            masks)\n",
    "\n",
    "        # Optimizer\n",
    "        optimizer = tf.train.AdamOptimizer(lr)\n",
    "\n",
    "        # Gradient Clipping\n",
    "        gradients = optimizer.compute_gradients(cost)\n",
    "        capped_gradients = [(tf.clip_by_value(grad, -1., 1.), var) for grad, var in gradients if grad is not None]\n",
    "        train_op = optimizer.apply_gradients(capped_gradients)\n"
   ]
  },
  {
   "cell_type": "markdown",
   "metadata": {},
   "source": [
    "Batch and pad the source and target sequences"
   ]
  },
  {
   "cell_type": "code",
   "execution_count": 20,
   "metadata": {
    "collapsed": true
   },
   "outputs": [],
   "source": [
    "\"\"\"\n",
    "DON'T MODIFY ANYTHING IN THIS CELL\n",
    "\"\"\"\n",
    "def pad_sentence_batch(sentence_batch, pad_int):\n",
    "    \"\"\"Pad sentences with <PAD> so that each sentence of a batch has the same length\"\"\"\n",
    "    max_sentence = max([len(sentence) for sentence in sentence_batch])\n",
    "    return [sentence + [pad_int] * (max_sentence - len(sentence)) for sentence in sentence_batch]\n",
    "\n",
    "\n",
    "def get_batches(sources, targets, batch_size, source_pad_int, target_pad_int):\n",
    "    \"\"\"Batch targets, sources, and the lengths of their sentences together\"\"\"\n",
    "    for batch_i in range(0, len(sources)//batch_size):\n",
    "        start_i = batch_i * batch_size\n",
    "\n",
    "        # Slice the right amount for the batch\n",
    "        sources_batch = sources[start_i:start_i + batch_size]\n",
    "        targets_batch = targets[start_i:start_i + batch_size]\n",
    "\n",
    "        # Pad\n",
    "        pad_sources_batch = np.array(pad_sentence_batch(sources_batch, source_pad_int))\n",
    "        pad_targets_batch = np.array(pad_sentence_batch(targets_batch, target_pad_int))\n",
    "\n",
    "        # Need the lengths for the _lengths parameters\n",
    "        pad_targets_lengths = []\n",
    "        for target in pad_targets_batch:\n",
    "            pad_targets_lengths.append(len(target))\n",
    "\n",
    "        pad_source_lengths = []\n",
    "        for source in pad_sources_batch:\n",
    "            pad_source_lengths.append(len(source))\n",
    "\n",
    "        yield pad_sources_batch, pad_targets_batch, pad_source_lengths, pad_targets_lengths\n"
   ]
  },
  {
   "cell_type": "markdown",
   "metadata": {},
   "source": [
    "### Train\n",
    "Train the neural network on the preprocessed data. If you have a hard time getting a good loss, check the forms to see if anyone is having the same problem."
   ]
  },
  {
   "cell_type": "code",
   "execution_count": 21,
   "metadata": {
    "scrolled": true
   },
   "outputs": [
    {
     "name": "stdout",
     "output_type": "stream",
     "text": [
      "Epoch   0 Batch   10/269 - Train Accuracy: 0.2840, Validation Accuracy: 0.3517, Loss: 3.5518\n",
      "Epoch   0 Batch   20/269 - Train Accuracy: 0.3640, Validation Accuracy: 0.4211, Loss: 2.9689\n",
      "Epoch   0 Batch   30/269 - Train Accuracy: 0.4198, Validation Accuracy: 0.4488, Loss: 2.6011\n",
      "Epoch   0 Batch   40/269 - Train Accuracy: 0.4250, Validation Accuracy: 0.4765, Loss: 2.4852\n",
      "Epoch   0 Batch   50/269 - Train Accuracy: 0.4266, Validation Accuracy: 0.4800, Loss: 2.3867\n",
      "Epoch   0 Batch   60/269 - Train Accuracy: 0.4696, Validation Accuracy: 0.4901, Loss: 2.0417\n",
      "Epoch   0 Batch   70/269 - Train Accuracy: 0.4940, Validation Accuracy: 0.5087, Loss: 1.9295\n",
      "Epoch   0 Batch   80/269 - Train Accuracy: 0.4749, Validation Accuracy: 0.4925, Loss: 1.7537\n",
      "Epoch   0 Batch   90/269 - Train Accuracy: 0.4637, Validation Accuracy: 0.5249, Loss: 1.7814\n",
      "Epoch   0 Batch  100/269 - Train Accuracy: 0.4938, Validation Accuracy: 0.4985, Loss: 1.5630\n",
      "Epoch   0 Batch  110/269 - Train Accuracy: 0.4658, Validation Accuracy: 0.5049, Loss: 1.4950\n",
      "Epoch   0 Batch  120/269 - Train Accuracy: 0.4667, Validation Accuracy: 0.5168, Loss: 1.4718\n",
      "Epoch   0 Batch  130/269 - Train Accuracy: 0.4521, Validation Accuracy: 0.5118, Loss: 1.4435\n",
      "Epoch   0 Batch  140/269 - Train Accuracy: 0.4947, Validation Accuracy: 0.5202, Loss: 1.3062\n",
      "Epoch   0 Batch  150/269 - Train Accuracy: 0.5142, Validation Accuracy: 0.5331, Loss: 1.2466\n",
      "Epoch   0 Batch  160/269 - Train Accuracy: 0.4841, Validation Accuracy: 0.5118, Loss: 1.1921\n",
      "Epoch   0 Batch  170/269 - Train Accuracy: 0.5078, Validation Accuracy: 0.5297, Loss: 1.1320\n",
      "Epoch   0 Batch  180/269 - Train Accuracy: 0.5056, Validation Accuracy: 0.5335, Loss: 1.0943\n",
      "Epoch   0 Batch  190/269 - Train Accuracy: 0.5284, Validation Accuracy: 0.5472, Loss: 1.0283\n",
      "Epoch   0 Batch  200/269 - Train Accuracy: 0.5343, Validation Accuracy: 0.5578, Loss: 1.0178\n",
      "Epoch   0 Batch  210/269 - Train Accuracy: 0.5628, Validation Accuracy: 0.5675, Loss: 0.9296\n",
      "Epoch   0 Batch  220/269 - Train Accuracy: 0.5645, Validation Accuracy: 0.5689, Loss: 0.8597\n",
      "Epoch   0 Batch  230/269 - Train Accuracy: 0.5566, Validation Accuracy: 0.5817, Loss: 0.8594\n",
      "Epoch   0 Batch  240/269 - Train Accuracy: 0.6237, Validation Accuracy: 0.5873, Loss: 0.7637\n",
      "Epoch   0 Batch  250/269 - Train Accuracy: 0.5627, Validation Accuracy: 0.5846, Loss: 0.8182\n",
      "Epoch   0 Batch  260/269 - Train Accuracy: 0.5739, Validation Accuracy: 0.5912, Loss: 0.8092\n",
      "Epoch   1 Batch   10/269 - Train Accuracy: 0.6104, Validation Accuracy: 0.6248, Loss: 0.7390\n",
      "Epoch   1 Batch   20/269 - Train Accuracy: 0.6224, Validation Accuracy: 0.6325, Loss: 0.7244\n",
      "Epoch   1 Batch   30/269 - Train Accuracy: 0.6248, Validation Accuracy: 0.6251, Loss: 0.6714\n",
      "Epoch   1 Batch   40/269 - Train Accuracy: 0.6258, Validation Accuracy: 0.6444, Loss: 0.6861\n",
      "Epoch   1 Batch   50/269 - Train Accuracy: 0.6193, Validation Accuracy: 0.6278, Loss: 0.6674\n",
      "Epoch   1 Batch   60/269 - Train Accuracy: 0.6504, Validation Accuracy: 0.6498, Loss: 0.5891\n",
      "Epoch   1 Batch   70/269 - Train Accuracy: 0.6542, Validation Accuracy: 0.6400, Loss: 0.6451\n",
      "Epoch   1 Batch   80/269 - Train Accuracy: 0.6588, Validation Accuracy: 0.6612, Loss: 0.5896\n",
      "Epoch   1 Batch   90/269 - Train Accuracy: 0.6354, Validation Accuracy: 0.6499, Loss: 0.6048\n",
      "Epoch   1 Batch  100/269 - Train Accuracy: 0.6765, Validation Accuracy: 0.6695, Loss: 0.5466\n",
      "Epoch   1 Batch  110/269 - Train Accuracy: 0.6698, Validation Accuracy: 0.6757, Loss: 0.5347\n",
      "Epoch   1 Batch  120/269 - Train Accuracy: 0.6682, Validation Accuracy: 0.6852, Loss: 0.5433\n",
      "Epoch   1 Batch  130/269 - Train Accuracy: 0.6685, Validation Accuracy: 0.6916, Loss: 0.5278\n",
      "Epoch   1 Batch  140/269 - Train Accuracy: 0.6959, Validation Accuracy: 0.7037, Loss: 0.5094\n",
      "Epoch   1 Batch  150/269 - Train Accuracy: 0.7038, Validation Accuracy: 0.7078, Loss: 0.4849\n",
      "Epoch   1 Batch  160/269 - Train Accuracy: 0.7073, Validation Accuracy: 0.7010, Loss: 0.4688\n",
      "Epoch   1 Batch  170/269 - Train Accuracy: 0.7006, Validation Accuracy: 0.7265, Loss: 0.4542\n",
      "Epoch   1 Batch  180/269 - Train Accuracy: 0.7480, Validation Accuracy: 0.7314, Loss: 0.4320\n",
      "Epoch   1 Batch  190/269 - Train Accuracy: 0.7281, Validation Accuracy: 0.7362, Loss: 0.4105\n",
      "Epoch   1 Batch  200/269 - Train Accuracy: 0.7160, Validation Accuracy: 0.7376, Loss: 0.4231\n",
      "Epoch   1 Batch  210/269 - Train Accuracy: 0.7507, Validation Accuracy: 0.7399, Loss: 0.3759\n",
      "Epoch   1 Batch  220/269 - Train Accuracy: 0.7587, Validation Accuracy: 0.7547, Loss: 0.3523\n",
      "Epoch   1 Batch  230/269 - Train Accuracy: 0.7554, Validation Accuracy: 0.7548, Loss: 0.3581\n",
      "Epoch   1 Batch  240/269 - Train Accuracy: 0.8008, Validation Accuracy: 0.7718, Loss: 0.3159\n",
      "Epoch   1 Batch  250/269 - Train Accuracy: 0.7737, Validation Accuracy: 0.7720, Loss: 0.3388\n",
      "Epoch   1 Batch  260/269 - Train Accuracy: 0.7641, Validation Accuracy: 0.7728, Loss: 0.3398\n",
      "Epoch   2 Batch   10/269 - Train Accuracy: 0.8060, Validation Accuracy: 0.7983, Loss: 0.2972\n",
      "Epoch   2 Batch   20/269 - Train Accuracy: 0.8021, Validation Accuracy: 0.8113, Loss: 0.2873\n",
      "Epoch   2 Batch   30/269 - Train Accuracy: 0.8065, Validation Accuracy: 0.8054, Loss: 0.2787\n",
      "Epoch   2 Batch   40/269 - Train Accuracy: 0.8138, Validation Accuracy: 0.8189, Loss: 0.2664\n",
      "Epoch   2 Batch   50/269 - Train Accuracy: 0.8040, Validation Accuracy: 0.8351, Loss: 0.2608\n",
      "Epoch   2 Batch   60/269 - Train Accuracy: 0.8358, Validation Accuracy: 0.8147, Loss: 0.2220\n",
      "Epoch   2 Batch   70/269 - Train Accuracy: 0.8635, Validation Accuracy: 0.8327, Loss: 0.2336\n",
      "Epoch   2 Batch   80/269 - Train Accuracy: 0.8479, Validation Accuracy: 0.8263, Loss: 0.2116\n",
      "Epoch   2 Batch   90/269 - Train Accuracy: 0.8263, Validation Accuracy: 0.8351, Loss: 0.2137\n",
      "Epoch   2 Batch  100/269 - Train Accuracy: 0.8677, Validation Accuracy: 0.8435, Loss: 0.1940\n",
      "Epoch   2 Batch  110/269 - Train Accuracy: 0.8684, Validation Accuracy: 0.8607, Loss: 0.1812\n",
      "Epoch   2 Batch  120/269 - Train Accuracy: 0.8628, Validation Accuracy: 0.8562, Loss: 0.1794\n",
      "Epoch   2 Batch  130/269 - Train Accuracy: 0.8562, Validation Accuracy: 0.8554, Loss: 0.1871\n",
      "Epoch   2 Batch  140/269 - Train Accuracy: 0.8750, Validation Accuracy: 0.8648, Loss: 0.1771\n",
      "Epoch   2 Batch  150/269 - Train Accuracy: 0.8756, Validation Accuracy: 0.8710, Loss: 0.1560\n",
      "Epoch   2 Batch  160/269 - Train Accuracy: 0.8792, Validation Accuracy: 0.8819, Loss: 0.1565\n",
      "Epoch   2 Batch  170/269 - Train Accuracy: 0.8742, Validation Accuracy: 0.8693, Loss: 0.1423\n",
      "Epoch   2 Batch  180/269 - Train Accuracy: 0.8881, Validation Accuracy: 0.8801, Loss: 0.1362\n",
      "Epoch   2 Batch  190/269 - Train Accuracy: 0.8752, Validation Accuracy: 0.8786, Loss: 0.1263\n",
      "Epoch   2 Batch  200/269 - Train Accuracy: 0.8865, Validation Accuracy: 0.8688, Loss: 0.1318\n",
      "Epoch   2 Batch  210/269 - Train Accuracy: 0.8866, Validation Accuracy: 0.8906, Loss: 0.1219\n",
      "Epoch   2 Batch  220/269 - Train Accuracy: 0.8921, Validation Accuracy: 0.8916, Loss: 0.1154\n",
      "Epoch   2 Batch  230/269 - Train Accuracy: 0.8986, Validation Accuracy: 0.8952, Loss: 0.1191\n",
      "Epoch   2 Batch  240/269 - Train Accuracy: 0.9076, Validation Accuracy: 0.8886, Loss: 0.1041\n",
      "Epoch   2 Batch  250/269 - Train Accuracy: 0.9064, Validation Accuracy: 0.8941, Loss: 0.1067\n",
      "Epoch   2 Batch  260/269 - Train Accuracy: 0.8907, Validation Accuracy: 0.8999, Loss: 0.1152\n",
      "Epoch   3 Batch   10/269 - Train Accuracy: 0.9000, Validation Accuracy: 0.8948, Loss: 0.0908\n",
      "Epoch   3 Batch   20/269 - Train Accuracy: 0.9071, Validation Accuracy: 0.8990, Loss: 0.0928\n",
      "Epoch   3 Batch   30/269 - Train Accuracy: 0.9124, Validation Accuracy: 0.8995, Loss: 0.0948\n",
      "Epoch   3 Batch   40/269 - Train Accuracy: 0.8938, Validation Accuracy: 0.9025, Loss: 0.0979\n",
      "Epoch   3 Batch   50/269 - Train Accuracy: 0.8966, Validation Accuracy: 0.8983, Loss: 0.0969\n",
      "Epoch   3 Batch   60/269 - Train Accuracy: 0.9153, Validation Accuracy: 0.9131, Loss: 0.0809\n",
      "Epoch   3 Batch   70/269 - Train Accuracy: 0.9161, Validation Accuracy: 0.9012, Loss: 0.0881\n",
      "Epoch   3 Batch   80/269 - Train Accuracy: 0.9175, Validation Accuracy: 0.9093, Loss: 0.0805\n",
      "Epoch   3 Batch   90/269 - Train Accuracy: 0.9118, Validation Accuracy: 0.9102, Loss: 0.0867\n",
      "Epoch   3 Batch  100/269 - Train Accuracy: 0.9143, Validation Accuracy: 0.9052, Loss: 0.0829\n",
      "Epoch   3 Batch  110/269 - Train Accuracy: 0.9129, Validation Accuracy: 0.9084, Loss: 0.0739\n"
     ]
    },
    {
     "name": "stdout",
     "output_type": "stream",
     "text": [
      "Epoch   3 Batch  120/269 - Train Accuracy: 0.9253, Validation Accuracy: 0.9142, Loss: 0.0737\n",
      "Epoch   3 Batch  130/269 - Train Accuracy: 0.9187, Validation Accuracy: 0.9118, Loss: 0.0767\n",
      "Epoch   3 Batch  140/269 - Train Accuracy: 0.9197, Validation Accuracy: 0.9150, Loss: 0.0797\n",
      "Epoch   3 Batch  150/269 - Train Accuracy: 0.9109, Validation Accuracy: 0.9151, Loss: 0.0723\n",
      "Epoch   3 Batch  160/269 - Train Accuracy: 0.9205, Validation Accuracy: 0.9244, Loss: 0.0714\n",
      "Epoch   3 Batch  170/269 - Train Accuracy: 0.9218, Validation Accuracy: 0.9157, Loss: 0.0652\n",
      "Epoch   3 Batch  180/269 - Train Accuracy: 0.9232, Validation Accuracy: 0.9252, Loss: 0.0623\n",
      "Epoch   3 Batch  190/269 - Train Accuracy: 0.9209, Validation Accuracy: 0.9259, Loss: 0.0631\n",
      "Epoch   3 Batch  200/269 - Train Accuracy: 0.9107, Validation Accuracy: 0.9123, Loss: 0.0666\n",
      "Epoch   3 Batch  210/269 - Train Accuracy: 0.9389, Validation Accuracy: 0.9277, Loss: 0.0598\n",
      "Epoch   3 Batch  220/269 - Train Accuracy: 0.9260, Validation Accuracy: 0.9200, Loss: 0.0593\n",
      "Epoch   3 Batch  230/269 - Train Accuracy: 0.9373, Validation Accuracy: 0.9298, Loss: 0.0620\n",
      "Epoch   3 Batch  240/269 - Train Accuracy: 0.9385, Validation Accuracy: 0.9288, Loss: 0.0543\n",
      "Epoch   3 Batch  250/269 - Train Accuracy: 0.9376, Validation Accuracy: 0.9298, Loss: 0.0573\n",
      "Epoch   3 Batch  260/269 - Train Accuracy: 0.9174, Validation Accuracy: 0.9331, Loss: 0.0645\n",
      "Epoch   4 Batch   10/269 - Train Accuracy: 0.9271, Validation Accuracy: 0.9221, Loss: 0.0545\n",
      "Epoch   4 Batch   20/269 - Train Accuracy: 0.9337, Validation Accuracy: 0.9203, Loss: 0.0649\n",
      "Epoch   4 Batch   30/269 - Train Accuracy: 0.9313, Validation Accuracy: 0.9229, Loss: 0.0577\n",
      "Epoch   4 Batch   40/269 - Train Accuracy: 0.9240, Validation Accuracy: 0.9183, Loss: 0.0650\n",
      "Epoch   4 Batch   50/269 - Train Accuracy: 0.9200, Validation Accuracy: 0.9177, Loss: 0.0602\n",
      "Epoch   4 Batch   60/269 - Train Accuracy: 0.9282, Validation Accuracy: 0.9246, Loss: 0.0481\n",
      "Epoch   4 Batch   70/269 - Train Accuracy: 0.9422, Validation Accuracy: 0.9324, Loss: 0.0546\n",
      "Epoch   4 Batch   80/269 - Train Accuracy: 0.9307, Validation Accuracy: 0.9354, Loss: 0.0494\n",
      "Epoch   4 Batch   90/269 - Train Accuracy: 0.9438, Validation Accuracy: 0.9325, Loss: 0.0524\n",
      "Epoch   4 Batch  100/269 - Train Accuracy: 0.9245, Validation Accuracy: 0.9303, Loss: 0.0498\n",
      "Epoch   4 Batch  110/269 - Train Accuracy: 0.9310, Validation Accuracy: 0.9371, Loss: 0.0462\n",
      "Epoch   4 Batch  120/269 - Train Accuracy: 0.9334, Validation Accuracy: 0.9378, Loss: 0.0472\n",
      "Epoch   4 Batch  130/269 - Train Accuracy: 0.9427, Validation Accuracy: 0.9349, Loss: 0.0498\n",
      "Epoch   4 Batch  140/269 - Train Accuracy: 0.9366, Validation Accuracy: 0.9419, Loss: 0.0517\n",
      "Epoch   4 Batch  150/269 - Train Accuracy: 0.9391, Validation Accuracy: 0.9442, Loss: 0.0467\n",
      "Epoch   4 Batch  160/269 - Train Accuracy: 0.9390, Validation Accuracy: 0.9427, Loss: 0.0456\n",
      "Epoch   4 Batch  170/269 - Train Accuracy: 0.9335, Validation Accuracy: 0.9404, Loss: 0.0413\n",
      "Epoch   4 Batch  180/269 - Train Accuracy: 0.9448, Validation Accuracy: 0.9436, Loss: 0.0415\n",
      "Epoch   4 Batch  190/269 - Train Accuracy: 0.9406, Validation Accuracy: 0.9399, Loss: 0.0424\n",
      "Epoch   4 Batch  200/269 - Train Accuracy: 0.9478, Validation Accuracy: 0.9324, Loss: 0.0431\n",
      "Epoch   4 Batch  210/269 - Train Accuracy: 0.9489, Validation Accuracy: 0.9455, Loss: 0.0406\n",
      "Epoch   4 Batch  220/269 - Train Accuracy: 0.9427, Validation Accuracy: 0.9342, Loss: 0.0424\n",
      "Epoch   4 Batch  230/269 - Train Accuracy: 0.9579, Validation Accuracy: 0.9500, Loss: 0.0410\n",
      "Epoch   4 Batch  240/269 - Train Accuracy: 0.9507, Validation Accuracy: 0.9417, Loss: 0.0379\n",
      "Epoch   4 Batch  250/269 - Train Accuracy: 0.9486, Validation Accuracy: 0.9553, Loss: 0.0388\n",
      "Epoch   4 Batch  260/269 - Train Accuracy: 0.9413, Validation Accuracy: 0.9514, Loss: 0.0468\n",
      "Epoch   5 Batch   10/269 - Train Accuracy: 0.9425, Validation Accuracy: 0.9356, Loss: 0.0334\n",
      "Epoch   5 Batch   20/269 - Train Accuracy: 0.9557, Validation Accuracy: 0.9536, Loss: 0.0363\n",
      "Epoch   5 Batch   30/269 - Train Accuracy: 0.9489, Validation Accuracy: 0.9426, Loss: 0.0373\n",
      "Epoch   5 Batch   40/269 - Train Accuracy: 0.9402, Validation Accuracy: 0.9456, Loss: 0.0430\n",
      "Epoch   5 Batch   50/269 - Train Accuracy: 0.9368, Validation Accuracy: 0.9544, Loss: 0.0430\n",
      "Epoch   5 Batch   60/269 - Train Accuracy: 0.9466, Validation Accuracy: 0.9522, Loss: 0.0366\n",
      "Epoch   5 Batch   70/269 - Train Accuracy: 0.9542, Validation Accuracy: 0.9450, Loss: 0.0377\n",
      "Epoch   5 Batch   80/269 - Train Accuracy: 0.9472, Validation Accuracy: 0.9450, Loss: 0.0357\n",
      "Epoch   5 Batch   90/269 - Train Accuracy: 0.9598, Validation Accuracy: 0.9485, Loss: 0.0366\n",
      "Epoch   5 Batch  100/269 - Train Accuracy: 0.9459, Validation Accuracy: 0.9509, Loss: 0.0371\n",
      "Epoch   5 Batch  110/269 - Train Accuracy: 0.9439, Validation Accuracy: 0.9432, Loss: 0.0328\n",
      "Epoch   5 Batch  120/269 - Train Accuracy: 0.9531, Validation Accuracy: 0.9409, Loss: 0.0352\n",
      "Epoch   5 Batch  130/269 - Train Accuracy: 0.9582, Validation Accuracy: 0.9523, Loss: 0.0373\n",
      "Epoch   5 Batch  140/269 - Train Accuracy: 0.9551, Validation Accuracy: 0.9530, Loss: 0.0383\n",
      "Epoch   5 Batch  150/269 - Train Accuracy: 0.9526, Validation Accuracy: 0.9587, Loss: 0.0357\n",
      "Epoch   5 Batch  160/269 - Train Accuracy: 0.9464, Validation Accuracy: 0.9576, Loss: 0.0337\n",
      "Epoch   5 Batch  170/269 - Train Accuracy: 0.9490, Validation Accuracy: 0.9589, Loss: 0.0307\n",
      "Epoch   5 Batch  180/269 - Train Accuracy: 0.9622, Validation Accuracy: 0.9568, Loss: 0.0313\n",
      "Epoch   5 Batch  190/269 - Train Accuracy: 0.9578, Validation Accuracy: 0.9542, Loss: 0.0318\n",
      "Epoch   5 Batch  200/269 - Train Accuracy: 0.9582, Validation Accuracy: 0.9520, Loss: 0.0306\n",
      "Epoch   5 Batch  210/269 - Train Accuracy: 0.9549, Validation Accuracy: 0.9572, Loss: 0.0303\n",
      "Epoch   5 Batch  220/269 - Train Accuracy: 0.9479, Validation Accuracy: 0.9506, Loss: 0.0333\n",
      "Epoch   5 Batch  230/269 - Train Accuracy: 0.9656, Validation Accuracy: 0.9585, Loss: 0.0319\n",
      "Epoch   5 Batch  240/269 - Train Accuracy: 0.9646, Validation Accuracy: 0.9596, Loss: 0.0287\n",
      "Epoch   5 Batch  250/269 - Train Accuracy: 0.9581, Validation Accuracy: 0.9559, Loss: 0.0302\n",
      "Epoch   5 Batch  260/269 - Train Accuracy: 0.9505, Validation Accuracy: 0.9534, Loss: 0.0347\n",
      "Epoch   6 Batch   10/269 - Train Accuracy: 0.9555, Validation Accuracy: 0.9499, Loss: 0.0254\n",
      "Epoch   6 Batch   20/269 - Train Accuracy: 0.9601, Validation Accuracy: 0.9606, Loss: 0.0289\n",
      "Epoch   6 Batch   30/269 - Train Accuracy: 0.9649, Validation Accuracy: 0.9549, Loss: 0.0296\n",
      "Epoch   6 Batch   40/269 - Train Accuracy: 0.9608, Validation Accuracy: 0.9584, Loss: 0.0345\n",
      "Epoch   6 Batch   50/269 - Train Accuracy: 0.9452, Validation Accuracy: 0.9500, Loss: 0.0392\n",
      "Epoch   6 Batch   60/269 - Train Accuracy: 0.9571, Validation Accuracy: 0.9561, Loss: 0.0297\n",
      "Epoch   6 Batch   70/269 - Train Accuracy: 0.9584, Validation Accuracy: 0.9563, Loss: 0.0303\n",
      "Epoch   6 Batch   80/269 - Train Accuracy: 0.9565, Validation Accuracy: 0.9501, Loss: 0.0280\n",
      "Epoch   6 Batch   90/269 - Train Accuracy: 0.9650, Validation Accuracy: 0.9605, Loss: 0.0291\n",
      "Epoch   6 Batch  100/269 - Train Accuracy: 0.9596, Validation Accuracy: 0.9532, Loss: 0.0297\n",
      "Epoch   6 Batch  110/269 - Train Accuracy: 0.9597, Validation Accuracy: 0.9524, Loss: 0.0245\n",
      "Epoch   6 Batch  120/269 - Train Accuracy: 0.9688, Validation Accuracy: 0.9571, Loss: 0.0263\n",
      "Epoch   6 Batch  130/269 - Train Accuracy: 0.9663, Validation Accuracy: 0.9614, Loss: 0.0292\n",
      "Epoch   6 Batch  140/269 - Train Accuracy: 0.9613, Validation Accuracy: 0.9636, Loss: 0.0304\n",
      "Epoch   6 Batch  150/269 - Train Accuracy: 0.9562, Validation Accuracy: 0.9608, Loss: 0.0293\n",
      "Epoch   6 Batch  160/269 - Train Accuracy: 0.9586, Validation Accuracy: 0.9646, Loss: 0.0256\n",
      "Epoch   6 Batch  170/269 - Train Accuracy: 0.9645, Validation Accuracy: 0.9558, Loss: 0.0241\n",
      "Epoch   6 Batch  180/269 - Train Accuracy: 0.9706, Validation Accuracy: 0.9639, Loss: 0.0262\n",
      "Epoch   6 Batch  190/269 - Train Accuracy: 0.5028, Validation Accuracy: 0.5245, Loss: 1.2785\n",
      "Epoch   6 Batch  200/269 - Train Accuracy: 0.6741, Validation Accuracy: 0.7092, Loss: 0.3951\n",
      "Epoch   6 Batch  210/269 - Train Accuracy: 0.8012, Validation Accuracy: 0.7886, Loss: 0.1995\n",
      "Epoch   6 Batch  220/269 - Train Accuracy: 0.8634, Validation Accuracy: 0.8688, Loss: 0.1268\n"
     ]
    },
    {
     "name": "stdout",
     "output_type": "stream",
     "text": [
      "Epoch   6 Batch  230/269 - Train Accuracy: 0.9072, Validation Accuracy: 0.9047, Loss: 0.0921\n",
      "Epoch   6 Batch  240/269 - Train Accuracy: 0.9253, Validation Accuracy: 0.9162, Loss: 0.0646\n",
      "Epoch   6 Batch  250/269 - Train Accuracy: 0.9257, Validation Accuracy: 0.9281, Loss: 0.0609\n",
      "Epoch   6 Batch  260/269 - Train Accuracy: 0.9267, Validation Accuracy: 0.9387, Loss: 0.0588\n",
      "Epoch   7 Batch   10/269 - Train Accuracy: 0.9310, Validation Accuracy: 0.9366, Loss: 0.0425\n",
      "Epoch   7 Batch   20/269 - Train Accuracy: 0.9522, Validation Accuracy: 0.9480, Loss: 0.0413\n",
      "Epoch   7 Batch   30/269 - Train Accuracy: 0.9462, Validation Accuracy: 0.9514, Loss: 0.0418\n",
      "Epoch   7 Batch   40/269 - Train Accuracy: 0.9429, Validation Accuracy: 0.9490, Loss: 0.0443\n",
      "Epoch   7 Batch   50/269 - Train Accuracy: 0.9442, Validation Accuracy: 0.9539, Loss: 0.0436\n",
      "Epoch   7 Batch   60/269 - Train Accuracy: 0.9568, Validation Accuracy: 0.9517, Loss: 0.0348\n",
      "Epoch   7 Batch   70/269 - Train Accuracy: 0.9506, Validation Accuracy: 0.9592, Loss: 0.0373\n",
      "Epoch   7 Batch   80/269 - Train Accuracy: 0.9584, Validation Accuracy: 0.9551, Loss: 0.0345\n",
      "Epoch   7 Batch   90/269 - Train Accuracy: 0.9614, Validation Accuracy: 0.9570, Loss: 0.0355\n",
      "Epoch   7 Batch  100/269 - Train Accuracy: 0.9528, Validation Accuracy: 0.9521, Loss: 0.0352\n",
      "Epoch   7 Batch  110/269 - Train Accuracy: 0.9539, Validation Accuracy: 0.9591, Loss: 0.0303\n",
      "Epoch   7 Batch  120/269 - Train Accuracy: 0.9517, Validation Accuracy: 0.9587, Loss: 0.0334\n",
      "Epoch   7 Batch  130/269 - Train Accuracy: 0.9607, Validation Accuracy: 0.9565, Loss: 0.0322\n",
      "Epoch   7 Batch  140/269 - Train Accuracy: 0.9589, Validation Accuracy: 0.9562, Loss: 0.0341\n",
      "Epoch   7 Batch  150/269 - Train Accuracy: 0.9579, Validation Accuracy: 0.9598, Loss: 0.0319\n",
      "Epoch   7 Batch  160/269 - Train Accuracy: 0.9517, Validation Accuracy: 0.9642, Loss: 0.0294\n",
      "Epoch   7 Batch  170/269 - Train Accuracy: 0.9581, Validation Accuracy: 0.9597, Loss: 0.0253\n",
      "Epoch   7 Batch  180/269 - Train Accuracy: 0.9668, Validation Accuracy: 0.9556, Loss: 0.0265\n",
      "Epoch   7 Batch  190/269 - Train Accuracy: 0.9628, Validation Accuracy: 0.9588, Loss: 0.0266\n",
      "Epoch   7 Batch  200/269 - Train Accuracy: 0.9599, Validation Accuracy: 0.9593, Loss: 0.0261\n",
      "Epoch   7 Batch  210/269 - Train Accuracy: 0.9608, Validation Accuracy: 0.9632, Loss: 0.0262\n",
      "Epoch   7 Batch  220/269 - Train Accuracy: 0.9633, Validation Accuracy: 0.9616, Loss: 0.0272\n",
      "Epoch   7 Batch  230/269 - Train Accuracy: 0.9656, Validation Accuracy: 0.9613, Loss: 0.0266\n",
      "Epoch   7 Batch  240/269 - Train Accuracy: 0.9682, Validation Accuracy: 0.9644, Loss: 0.0235\n",
      "Epoch   7 Batch  250/269 - Train Accuracy: 0.9580, Validation Accuracy: 0.9638, Loss: 0.0246\n",
      "Epoch   7 Batch  260/269 - Train Accuracy: 0.9584, Validation Accuracy: 0.9640, Loss: 0.0283\n",
      "Epoch   8 Batch   10/269 - Train Accuracy: 0.9575, Validation Accuracy: 0.9635, Loss: 0.0218\n",
      "Epoch   8 Batch   20/269 - Train Accuracy: 0.9614, Validation Accuracy: 0.9650, Loss: 0.0232\n",
      "Epoch   8 Batch   30/269 - Train Accuracy: 0.9673, Validation Accuracy: 0.9632, Loss: 0.0255\n",
      "Epoch   8 Batch   40/269 - Train Accuracy: 0.9613, Validation Accuracy: 0.9649, Loss: 0.0278\n",
      "Epoch   8 Batch   50/269 - Train Accuracy: 0.9634, Validation Accuracy: 0.9727, Loss: 0.0289\n",
      "Epoch   8 Batch   60/269 - Train Accuracy: 0.9674, Validation Accuracy: 0.9665, Loss: 0.0232\n",
      "Epoch   8 Batch   70/269 - Train Accuracy: 0.9723, Validation Accuracy: 0.9710, Loss: 0.0234\n",
      "Epoch   8 Batch   80/269 - Train Accuracy: 0.9672, Validation Accuracy: 0.9611, Loss: 0.0222\n",
      "Epoch   8 Batch   90/269 - Train Accuracy: 0.9723, Validation Accuracy: 0.9634, Loss: 0.0227\n",
      "Epoch   8 Batch  100/269 - Train Accuracy: 0.9680, Validation Accuracy: 0.9679, Loss: 0.0250\n",
      "Epoch   8 Batch  110/269 - Train Accuracy: 0.9662, Validation Accuracy: 0.9647, Loss: 0.0202\n",
      "Epoch   8 Batch  120/269 - Train Accuracy: 0.9620, Validation Accuracy: 0.9693, Loss: 0.0235\n",
      "Epoch   8 Batch  130/269 - Train Accuracy: 0.9661, Validation Accuracy: 0.9676, Loss: 0.0233\n",
      "Epoch   8 Batch  140/269 - Train Accuracy: 0.9701, Validation Accuracy: 0.9600, Loss: 0.0245\n",
      "Epoch   8 Batch  150/269 - Train Accuracy: 0.9680, Validation Accuracy: 0.9701, Loss: 0.0244\n",
      "Epoch   8 Batch  160/269 - Train Accuracy: 0.9649, Validation Accuracy: 0.9719, Loss: 0.0214\n",
      "Epoch   8 Batch  170/269 - Train Accuracy: 0.9717, Validation Accuracy: 0.9684, Loss: 0.0182\n",
      "Epoch   8 Batch  180/269 - Train Accuracy: 0.9822, Validation Accuracy: 0.9693, Loss: 0.0191\n",
      "Epoch   8 Batch  190/269 - Train Accuracy: 0.9698, Validation Accuracy: 0.9647, Loss: 0.0205\n",
      "Epoch   8 Batch  200/269 - Train Accuracy: 0.9698, Validation Accuracy: 0.9670, Loss: 0.0190\n",
      "Epoch   8 Batch  210/269 - Train Accuracy: 0.9648, Validation Accuracy: 0.9695, Loss: 0.0196\n",
      "Epoch   8 Batch  220/269 - Train Accuracy: 0.9707, Validation Accuracy: 0.9651, Loss: 0.0211\n",
      "Epoch   8 Batch  230/269 - Train Accuracy: 0.9716, Validation Accuracy: 0.9664, Loss: 0.0208\n",
      "Epoch   8 Batch  240/269 - Train Accuracy: 0.9756, Validation Accuracy: 0.9640, Loss: 0.0185\n",
      "Epoch   8 Batch  250/269 - Train Accuracy: 0.9654, Validation Accuracy: 0.9668, Loss: 0.0192\n",
      "Epoch   8 Batch  260/269 - Train Accuracy: 0.9725, Validation Accuracy: 0.9672, Loss: 0.0222\n",
      "Epoch   9 Batch   10/269 - Train Accuracy: 0.9676, Validation Accuracy: 0.9667, Loss: 0.0167\n",
      "Epoch   9 Batch   20/269 - Train Accuracy: 0.9691, Validation Accuracy: 0.9672, Loss: 0.0191\n",
      "Epoch   9 Batch   30/269 - Train Accuracy: 0.9688, Validation Accuracy: 0.9660, Loss: 0.0204\n",
      "Epoch   9 Batch   40/269 - Train Accuracy: 0.9666, Validation Accuracy: 0.9664, Loss: 0.0220\n",
      "Epoch   9 Batch   50/269 - Train Accuracy: 0.9645, Validation Accuracy: 0.9715, Loss: 0.0234\n",
      "Epoch   9 Batch   60/269 - Train Accuracy: 0.9680, Validation Accuracy: 0.9702, Loss: 0.0198\n",
      "Epoch   9 Batch   70/269 - Train Accuracy: 0.9749, Validation Accuracy: 0.9752, Loss: 0.0188\n",
      "Epoch   9 Batch   80/269 - Train Accuracy: 0.9751, Validation Accuracy: 0.9640, Loss: 0.0176\n",
      "Epoch   9 Batch   90/269 - Train Accuracy: 0.9754, Validation Accuracy: 0.9668, Loss: 0.0182\n",
      "Epoch   9 Batch  100/269 - Train Accuracy: 0.9743, Validation Accuracy: 0.9671, Loss: 0.0209\n",
      "Epoch   9 Batch  110/269 - Train Accuracy: 0.9727, Validation Accuracy: 0.9657, Loss: 0.0157\n",
      "Epoch   9 Batch  120/269 - Train Accuracy: 0.9728, Validation Accuracy: 0.9716, Loss: 0.0193\n",
      "Epoch   9 Batch  130/269 - Train Accuracy: 0.9741, Validation Accuracy: 0.9638, Loss: 0.0196\n",
      "Epoch   9 Batch  140/269 - Train Accuracy: 0.9769, Validation Accuracy: 0.9690, Loss: 0.0189\n",
      "Epoch   9 Batch  150/269 - Train Accuracy: 0.9744, Validation Accuracy: 0.9743, Loss: 0.0200\n",
      "Epoch   9 Batch  160/269 - Train Accuracy: 0.9729, Validation Accuracy: 0.9728, Loss: 0.0167\n",
      "Epoch   9 Batch  170/269 - Train Accuracy: 0.9793, Validation Accuracy: 0.9702, Loss: 0.0150\n",
      "Epoch   9 Batch  180/269 - Train Accuracy: 0.9825, Validation Accuracy: 0.9711, Loss: 0.0157\n",
      "Epoch   9 Batch  190/269 - Train Accuracy: 0.9759, Validation Accuracy: 0.9681, Loss: 0.0171\n",
      "Epoch   9 Batch  200/269 - Train Accuracy: 0.9749, Validation Accuracy: 0.9696, Loss: 0.0157\n",
      "Epoch   9 Batch  210/269 - Train Accuracy: 0.9689, Validation Accuracy: 0.9680, Loss: 0.0164\n",
      "Epoch   9 Batch  220/269 - Train Accuracy: 0.9727, Validation Accuracy: 0.9650, Loss: 0.0174\n",
      "Epoch   9 Batch  230/269 - Train Accuracy: 0.9760, Validation Accuracy: 0.9737, Loss: 0.0176\n",
      "Epoch   9 Batch  240/269 - Train Accuracy: 0.9791, Validation Accuracy: 0.9647, Loss: 0.0155\n",
      "Epoch   9 Batch  250/269 - Train Accuracy: 0.9724, Validation Accuracy: 0.9684, Loss: 0.0156\n",
      "Epoch   9 Batch  260/269 - Train Accuracy: 0.9798, Validation Accuracy: 0.9699, Loss: 0.0188\n",
      "Model Trained and Saved\n"
     ]
    }
   ],
   "source": [
    "\"\"\"\n",
    "DON'T MODIFY ANYTHING IN THIS CELL\n",
    "\"\"\"\n",
    "def get_accuracy(target, logits):\n",
    "    \"\"\"\n",
    "    Calculate accuracy\n",
    "    \"\"\"\n",
    "    max_seq = max(target.shape[1], logits.shape[1])\n",
    "    if max_seq - target.shape[1]:\n",
    "        target = np.pad(\n",
    "            target,\n",
    "            [(0,0),(0,max_seq - target.shape[1])],\n",
    "            'constant')\n",
    "    if max_seq - logits.shape[1]:\n",
    "        logits = np.pad(\n",
    "            logits,\n",
    "            [(0,0),(0,max_seq - logits.shape[1])],\n",
    "            'constant')\n",
    "\n",
    "    return np.mean(np.equal(target, logits))\n",
    "\n",
    "# Split data to training and validation sets\n",
    "train_source = source_int_text[batch_size:]\n",
    "train_target = target_int_text[batch_size:]\n",
    "valid_source = source_int_text[:batch_size]\n",
    "valid_target = target_int_text[:batch_size]\n",
    "(valid_sources_batch, valid_targets_batch, valid_sources_lengths, valid_targets_lengths ) = next(get_batches(valid_source,\n",
    "                                                                                                             valid_target,\n",
    "                                                                                                             batch_size,\n",
    "                                                                                                             source_vocab_to_int['<PAD>'],\n",
    "                                                                                                             target_vocab_to_int['<PAD>']))                                                                                                  \n",
    "with tf.Session(graph=train_graph) as sess:\n",
    "    sess.run(tf.global_variables_initializer())\n",
    "\n",
    "    for epoch_i in range(epochs):\n",
    "        for batch_i, (source_batch, target_batch, sources_lengths, targets_lengths) in enumerate(\n",
    "                get_batches(train_source, train_target, batch_size,\n",
    "                            source_vocab_to_int['<PAD>'],\n",
    "                            target_vocab_to_int['<PAD>'])):\n",
    "\n",
    "            _, loss = sess.run(\n",
    "                [train_op, cost],\n",
    "                {input_data: source_batch,\n",
    "                 targets: target_batch,\n",
    "                 lr: learning_rate,\n",
    "                 target_sequence_length: targets_lengths,\n",
    "                 source_sequence_length: sources_lengths,\n",
    "                 keep_prob: keep_probability})\n",
    "\n",
    "\n",
    "            if batch_i % display_step == 0 and batch_i > 0:\n",
    "\n",
    "\n",
    "                batch_train_logits = sess.run(\n",
    "                    inference_logits,\n",
    "                    {input_data: source_batch,\n",
    "                     source_sequence_length: sources_lengths,\n",
    "                     target_sequence_length: targets_lengths,\n",
    "                     keep_prob: 1.0})\n",
    "\n",
    "\n",
    "                batch_valid_logits = sess.run(\n",
    "                    inference_logits,\n",
    "                    {input_data: valid_sources_batch,\n",
    "                     source_sequence_length: valid_sources_lengths,\n",
    "                     target_sequence_length: valid_targets_lengths,\n",
    "                     keep_prob: 1.0})\n",
    "\n",
    "                train_acc = get_accuracy(target_batch, batch_train_logits)\n",
    "\n",
    "                valid_acc = get_accuracy(valid_targets_batch, batch_valid_logits)\n",
    "\n",
    "                print('Epoch {:>3} Batch {:>4}/{} - Train Accuracy: {:>6.4f}, Validation Accuracy: {:>6.4f}, Loss: {:>6.4f}'\n",
    "                      .format(epoch_i, batch_i, len(source_int_text) // batch_size, train_acc, valid_acc, loss))\n",
    "\n",
    "    # Save Model\n",
    "    saver = tf.train.Saver()\n",
    "    saver.save(sess, save_path)\n",
    "    print('Model Trained and Saved')"
   ]
  },
  {
   "cell_type": "markdown",
   "metadata": {},
   "source": [
    "### Save Parameters\n",
    "Save the `batch_size` and `save_path` parameters for inference."
   ]
  },
  {
   "cell_type": "code",
   "execution_count": 22,
   "metadata": {
    "collapsed": true
   },
   "outputs": [],
   "source": [
    "\"\"\"\n",
    "DON'T MODIFY ANYTHING IN THIS CELL\n",
    "\"\"\"\n",
    "# Save parameters for checkpoint\n",
    "helper.save_params(save_path)"
   ]
  },
  {
   "cell_type": "markdown",
   "metadata": {},
   "source": [
    "# Checkpoint"
   ]
  },
  {
   "cell_type": "code",
   "execution_count": 23,
   "metadata": {
    "collapsed": true
   },
   "outputs": [],
   "source": [
    "\"\"\"\n",
    "DON'T MODIFY ANYTHING IN THIS CELL\n",
    "\"\"\"\n",
    "import tensorflow as tf\n",
    "import numpy as np\n",
    "import helper\n",
    "import problem_unittests as tests\n",
    "\n",
    "_, (source_vocab_to_int, target_vocab_to_int), (source_int_to_vocab, target_int_to_vocab) = helper.load_preprocess()\n",
    "load_path = helper.load_params()"
   ]
  },
  {
   "cell_type": "markdown",
   "metadata": {},
   "source": [
    "## Sentence to Sequence\n",
    "To feed a sentence into the model for translation, you first need to preprocess it.  Implement the function `sentence_to_seq()` to preprocess new sentences.\n",
    "\n",
    "- Convert the sentence to lowercase\n",
    "- Convert words into ids using `vocab_to_int`\n",
    " - Convert words not in the vocabulary, to the `<UNK>` word id."
   ]
  },
  {
   "cell_type": "code",
   "execution_count": 24,
   "metadata": {},
   "outputs": [
    {
     "name": "stdout",
     "output_type": "stream",
     "text": [
      "Tests Passed\n"
     ]
    }
   ],
   "source": [
    "def sentence_to_seq(sentence, vocab_to_int):\n",
    "    \"\"\"\n",
    "    Convert a sentence to a sequence of ids\n",
    "    :param sentence: String\n",
    "    :param vocab_to_int: Dictionary to go from the words to an id\n",
    "    :return: List of word ids\n",
    "    \"\"\"\n",
    "    # TODO: Implement Function\n",
    "    words = sentence.lower().split()\n",
    "    return [vocab_to_int[word] if word in vocab_to_int  else vocab_to_int['<UNK>'] for word in words]\n",
    "\n",
    "\n",
    "\"\"\"\n",
    "DON'T MODIFY ANYTHING IN THIS CELL THAT IS BELOW THIS LINE\n",
    "\"\"\"\n",
    "tests.test_sentence_to_seq(sentence_to_seq)"
   ]
  },
  {
   "cell_type": "markdown",
   "metadata": {},
   "source": [
    "## Translate\n",
    "This will translate `translate_sentence` from English to French."
   ]
  },
  {
   "cell_type": "code",
   "execution_count": 25,
   "metadata": {},
   "outputs": [
    {
     "name": "stdout",
     "output_type": "stream",
     "text": [
      "INFO:tensorflow:Restoring parameters from checkpoints/dev\n",
      "Input\n",
      "  Word Ids:      [84, 37, 89, 148, 159, 133, 181]\n",
      "  English Words: ['he', 'saw', 'a', 'old', 'yellow', 'truck', '.']\n",
      "\n",
      "Prediction\n",
      "  Word Ids:      [158, 344, 233, 285, 70, 0, 0, 0, 0, 0, 0, 0, 0, 0]\n",
      "  French Words: il vu un vieux camion <PAD> <PAD> <PAD> <PAD> <PAD> <PAD> <PAD> <PAD> <PAD>\n"
     ]
    }
   ],
   "source": [
    "translate_sentence = 'he saw a old yellow truck .'\n",
    "\n",
    "\n",
    "\"\"\"\n",
    "DON'T MODIFY ANYTHING IN THIS CELL\n",
    "\"\"\"\n",
    "translate_sentence = sentence_to_seq(translate_sentence, source_vocab_to_int)\n",
    "\n",
    "loaded_graph = tf.Graph()\n",
    "with tf.Session(graph=loaded_graph) as sess:\n",
    "    # Load saved model\n",
    "    loader = tf.train.import_meta_graph(load_path + '.meta')\n",
    "    loader.restore(sess, load_path)\n",
    "\n",
    "    input_data = loaded_graph.get_tensor_by_name('input:0')\n",
    "    logits = loaded_graph.get_tensor_by_name('predictions:0')\n",
    "    target_sequence_length = loaded_graph.get_tensor_by_name('target_sequence_length:0')\n",
    "    source_sequence_length = loaded_graph.get_tensor_by_name('source_sequence_length:0')\n",
    "    keep_prob = loaded_graph.get_tensor_by_name('keep_prob:0')\n",
    "\n",
    "    translate_logits = sess.run(logits, {input_data: [translate_sentence]*batch_size,\n",
    "                                         target_sequence_length: [len(translate_sentence)*2]*batch_size,\n",
    "                                         source_sequence_length: [len(translate_sentence)]*batch_size,\n",
    "                                         keep_prob: 1.0})[0]\n",
    "\n",
    "print('Input')\n",
    "print('  Word Ids:      {}'.format([i for i in translate_sentence]))\n",
    "print('  English Words: {}'.format([source_int_to_vocab[i] for i in translate_sentence]))\n",
    "\n",
    "print('\\nPrediction')\n",
    "print('  Word Ids:      {}'.format([i for i in translate_logits]))\n",
    "print('  French Words: {}'.format(\" \".join([target_int_to_vocab[i] for i in translate_logits])))\n"
   ]
  },
  {
   "cell_type": "markdown",
   "metadata": {},
   "source": [
    "## Imperfect Translation\n",
    "You might notice that some sentences translate better than others.  Since the dataset you're using only has a vocabulary of 227 English words of the thousands that you use, you're only going to see good results using these words.  For this project, you don't need a perfect translation. However, if you want to create a better translation model, you'll need better data.\n",
    "\n",
    "You can train on the [WMT10 French-English corpus](http://www.statmt.org/wmt10/training-giga-fren.tar).  This dataset has more vocabulary and richer in topics discussed.  However, this will take you days to train, so make sure you've a GPU and the neural network is performing well on dataset we provided.  Just make sure you play with the WMT10 corpus after you've submitted this project.\n",
    "## Submitting This Project\n",
    "When submitting this project, make sure to run all the cells before saving the notebook. Save the notebook file as \"dlnd_language_translation.ipynb\" and save it as a HTML file under \"File\" -> \"Download as\". Include the \"helper.py\" and \"problem_unittests.py\" files in your submission."
   ]
  },
  {
   "cell_type": "code",
   "execution_count": null,
   "metadata": {
    "collapsed": true
   },
   "outputs": [],
   "source": []
  }
 ],
 "metadata": {
  "anaconda-cloud": {},
  "kernelspec": {
   "display_name": "Python 3",
   "language": "python",
   "name": "python3"
  },
  "language_info": {
   "codemirror_mode": {
    "name": "ipython",
    "version": 3
   },
   "file_extension": ".py",
   "mimetype": "text/x-python",
   "name": "python",
   "nbconvert_exporter": "python",
   "pygments_lexer": "ipython3",
   "version": "3.5.3"
  }
 },
 "nbformat": 4,
 "nbformat_minor": 1
}
