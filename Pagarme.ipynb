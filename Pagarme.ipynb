{
 "cells": [
  {
   "cell_type": "code",
   "execution_count": null,
   "metadata": {},
   "outputs": [],
   "source": [
    "import pagarme\n",
    "import pandas as pd\n",
    "import numpy as np\n",
    "import matplotlib.mlab as mlab\n",
    "import matplotlib.pyplot as plt\n",
    "\n",
    "PAGARME_KEY = \"ak_live_mZxhQj3NfGxFzSm9PUUR9aNAyvDKV7\"\n",
    "\n",
    "######## VARIÁVEIS\n",
    "qtd_max_trasacoes = 10\n",
    "data_criacao = \">=2017-10-20\"\n",
    "status = \"paid\"\n",
    "amount = \">=5000\"\n",
    "\n",
    "\n",
    "####### CARREGANDO DADOS\n",
    "pagarme.authentication_key(PAGARME_KEY)\n",
    "planos_anuais = pagarme.transaction.find_by({\"date_created\": data_criacao, \"status\":status, \"amount\": amount, \"count\":qtd_max_trasacoes})\n",
    "print(len(planos_anuais), \"planos anuais importados\")\n",
    "planos_anuais = pd.DataFrame([[i[\"status\"], i[\"amount\"], i[\"date_created\"], i[\"date_updated\"], i[\"installments\"], i[\"id\"], i[\"postback_url\"],i[\"payment_method\"], i[\"subscription_id\"]]   for i in planos_anuais], columns = [\"status\",\"amount\",\"date_created\",\"date_updated\",\"installments\",\"id\",\"postback_url\",\"payment_method\",\"subscription_id\"])\n",
    "\n",
    "## FORMATANDO CAMPOS\n",
    "pd.to_datetime(planos_anuais[\"date_created\"])\n",
    "pd.to_datetime(planos_anuais[\"date_updated\"])\n",
    "planos_anuais[\"amount\"] = planos_anuais[\"amount\"] / 100\n",
    "\n",
    "\n",
    "planos_anuais.head()"
   ]
  },
  {
   "cell_type": "markdown",
   "metadata": {
    "collapsed": true
   },
   "source": []
  }
 ],
 "metadata": {
  "kernelspec": {
   "display_name": "Python 3",
   "language": "python",
   "name": "python3"
  },
  "language_info": {
   "codemirror_mode": {
    "name": "ipython",
    "version": 3
   },
   "file_extension": ".py",
   "mimetype": "text/x-python",
   "name": "python",
   "nbconvert_exporter": "python",
   "pygments_lexer": "ipython3",
   "version": "3.6.2"
  }
 },
 "nbformat": 4,
 "nbformat_minor": 2
}
